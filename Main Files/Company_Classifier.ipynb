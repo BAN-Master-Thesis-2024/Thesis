{
 "cells": [
  {
   "cell_type": "markdown",
   "id": "8c23a9f0-1bca-4758-977f-e744cd0bb06e",
   "metadata": {},
   "source": [
    "# Classifying Type of Company - ICIJ Matches"
   ]
  },
  {
   "cell_type": "markdown",
   "id": "27bd40cf-5769-4c93-8f1e-0790cc8e81e6",
   "metadata": {},
   "source": [
    "## Load packages"
   ]
  },
  {
   "cell_type": "code",
   "execution_count": null,
   "id": "51f283aa-135a-41a3-ab51-36b8b7207f46",
   "metadata": {},
   "outputs": [],
   "source": [
    "# Loading dependencies \n",
    "from keras.models import load_model\n",
    "from os import path\n",
    "import sys "
   ]
  },
  {
   "cell_type": "markdown",
   "id": "46a901b9-3d6d-4508-bad7-bdec970a960b",
   "metadata": {},
   "source": [
    "## Importing and testing model"
   ]
  },
  {
   "cell_type": "code",
   "execution_count": 3,
   "id": "e15258d2-e1e4-4b95-bfff-8b3a08a0896f",
   "metadata": {},
   "outputs": [],
   "source": [
    "# Import model\n",
    "import companyClassifier as s"
   ]
  },
  {
   "cell_type": "code",
   "execution_count": 4,
   "id": "821e4abd-5d84-4aec-86ac-748b4678d0ed",
   "metadata": {},
   "outputs": [],
   "source": [
    "# Test model\n",
    "b = s.CompanyClassifier()"
   ]
  },
  {
   "cell_type": "code",
   "execution_count": 26,
   "id": "6930acd5-9afd-4378-8f9c-1f8b6974b539",
   "metadata": {},
   "outputs": [
    {
     "name": "stderr",
     "output_type": "stream",
     "text": [
      "  0%|                                                    | 0/10 [00:00<?, ?it/s]"
     ]
    },
    {
     "name": "stdout",
     "output_type": "stream",
     "text": [
      "1/1 [==============================] - 0s 60ms/step\n"
     ]
    },
    {
     "name": "stderr",
     "output_type": "stream",
     "text": [
      " 10%|████▍                                       | 1/10 [00:00<00:02,  3.32it/s]"
     ]
    },
    {
     "name": "stdout",
     "output_type": "stream",
     "text": [
      "1/1 [==============================] - 0s 82ms/step\n"
     ]
    },
    {
     "name": "stderr",
     "output_type": "stream",
     "text": [
      " 20%|████████▊                                   | 2/10 [00:00<00:02,  3.59it/s]"
     ]
    },
    {
     "name": "stdout",
     "output_type": "stream",
     "text": [
      "1/1 [==============================] - 0s 62ms/step\n"
     ]
    },
    {
     "name": "stderr",
     "output_type": "stream",
     "text": [
      " 30%|█████████████▏                              | 3/10 [00:00<00:01,  4.28it/s]"
     ]
    },
    {
     "name": "stdout",
     "output_type": "stream",
     "text": [
      "1/1 [==============================] - 0s 64ms/step\n"
     ]
    },
    {
     "name": "stderr",
     "output_type": "stream",
     "text": [
      " 40%|█████████████████▌                          | 4/10 [00:00<00:01,  4.25it/s]"
     ]
    },
    {
     "name": "stdout",
     "output_type": "stream",
     "text": [
      "1/1 [==============================] - 0s 56ms/step\n"
     ]
    },
    {
     "name": "stderr",
     "output_type": "stream",
     "text": [
      " 50%|██████████████████████                      | 5/10 [00:01<00:01,  4.44it/s]"
     ]
    },
    {
     "name": "stdout",
     "output_type": "stream",
     "text": [
      "1/1 [==============================] - 0s 243ms/step\n"
     ]
    },
    {
     "name": "stderr",
     "output_type": "stream",
     "text": [
      " 60%|██████████████████████████▍                 | 6/10 [00:01<00:01,  3.28it/s]"
     ]
    },
    {
     "name": "stdout",
     "output_type": "stream",
     "text": [
      "1/1 [==============================] - 0s 59ms/step\n"
     ]
    },
    {
     "name": "stderr",
     "output_type": "stream",
     "text": [
      " 70%|██████████████████████████████▊             | 7/10 [00:01<00:00,  3.34it/s]"
     ]
    },
    {
     "name": "stdout",
     "output_type": "stream",
     "text": [
      "1/1 [==============================] - 0s 76ms/step\n"
     ]
    },
    {
     "name": "stderr",
     "output_type": "stream",
     "text": [
      " 80%|███████████████████████████████████▏        | 8/10 [00:02<00:00,  3.20it/s]"
     ]
    },
    {
     "name": "stdout",
     "output_type": "stream",
     "text": [
      "1/1 [==============================] - 0s 58ms/step\n"
     ]
    },
    {
     "name": "stderr",
     "output_type": "stream",
     "text": [
      " 90%|███████████████████████████████████████▌    | 9/10 [00:02<00:00,  2.98it/s]"
     ]
    },
    {
     "name": "stdout",
     "output_type": "stream",
     "text": [
      "1/1 [==============================] - 0s 60ms/step\n"
     ]
    },
    {
     "name": "stderr",
     "output_type": "stream",
     "text": [
      "100%|███████████████████████████████████████████| 10/10 [00:02<00:00,  3.44it/s]"
     ]
    },
    {
     "name": "stdout",
     "output_type": "stream",
     "text": [
      "MALE OVERSEAS S.A. is a B2BC Referral Services\n",
      "ADAMSWOOD BUSINESS S.A. is a B2BC Dealer\n",
      "ALGISA MANAGEMENT CORP. is a B2BC Residential/Commercial\n",
      "SORBELIA INTERNATIONAL S.A. is a B2BC Referral Services\n",
      "GLENVILLE MANAGEMENT LTD. is a B2BC Residential/Commercial\n",
      "THORLEY ENTERPRISES INC. is a B2BC Contractor\n",
      "BESOLAR S.A. is a B2BC Contractor\n",
      "FACTORING CONSULTING, S.A. is a B2BC Computer Services\n",
      "KIRKVIEW HOLDINGS S.A. is a B2BC Residential/Commercial\n",
      "BROMPTON CONTRACTORS INC. is a B2BC Contractor\n"
     ]
    },
    {
     "name": "stderr",
     "output_type": "stream",
     "text": [
      "\n"
     ]
    }
   ],
   "source": [
    "# Test \n",
    "texts = companies_test[\"name\"]\n",
    "ctypes_subtypes = b.classifyCompany(texts)\n",
    "\n",
    "for company in texts:\n",
    "    print(company, \"is a\", ctypes_subtypes[\"type\"][company], ctypes_subtypes[\"subtype\"][company])"
   ]
  },
  {
   "cell_type": "markdown",
   "id": "675f7fca-c181-4353-8bd3-38bdade98ad7",
   "metadata": {},
   "source": [
    "## Load csv-file for matched entities"
   ]
  },
  {
   "cell_type": "code",
   "execution_count": 8,
   "id": "155c5857-ce48-4ff4-9d00-cf7e49bc73e3",
   "metadata": {},
   "outputs": [],
   "source": [
    "# Import pandas\n",
    "import pandas as pd"
   ]
  },
  {
   "cell_type": "code",
   "execution_count": 9,
   "id": "f257f8f6-f564-4472-8fbc-b757dd899566",
   "metadata": {},
   "outputs": [],
   "source": [
    "# Load data \n",
    "companies = pd.read_csv(\"companies_cl.csv\")"
   ]
  },
  {
   "cell_type": "code",
   "execution_count": null,
   "id": "ab5537e0-1d16-420f-a0f7-4b6638d6e30a",
   "metadata": {},
   "outputs": [],
   "source": [
    "# Classifying companies \n",
    "texts = companies[\"name\"]\n",
    "ctypes_subtypes = b.classifyCompany(texts)\n",
    "\n",
    "# Create lists for saving values\n",
    "company_names = []\n",
    "company_types = []\n",
    "company_subtypes = []\n",
    "\n",
    "# Loop \n",
    "for company in texts:\n",
    "\n",
    "    # Extract name\n",
    "    company_name = company\n",
    "\n",
    "    # Extract type and subtype\n",
    "    company_type = ctypes_subtypes[\"type\"][company]\n",
    "    company_subtype = ctypes_subtypes[\"subtype\"][company]\n",
    "    \n",
    "    # Append to list \n",
    "    company_names.append(company_name)\n",
    "    company_types.append(company_type)\n",
    "    company_subtypes.append(company_subtype)\n",
    "\n",
    "    "
   ]
  },
  {
   "cell_type": "code",
   "execution_count": null,
   "id": "5294ed29-f792-4323-a2c9-9be6a3f92c44",
   "metadata": {},
   "outputs": [],
   "source": [
    "# Create new df with extracted values\n",
    "data = {\n",
    "    \"company_name\" : company_names,\n",
    "    \"company_type\" : company_types,\n",
    "    \"company_subtype\" : company_subtypes\n",
    "}\n",
    "\n",
    "company_type = pd.DataFrame(data)\n",
    "\n",
    "company_type"
   ]
  },
  {
   "cell_type": "code",
   "execution_count": 49,
   "id": "468e8265-68bd-487a-a0b5-9a6d3fbba899",
   "metadata": {},
   "outputs": [],
   "source": [
    "# Save as csv\n",
    "company_type.to_csv(\"company_type.csv\")"
   ]
  }
 ],
 "metadata": {
  "kernelspec": {
   "display_name": "Python 3 (ipykernel)",
   "language": "python",
   "name": "python3"
  },
  "language_info": {
   "codemirror_mode": {
    "name": "ipython",
    "version": 3
   },
   "file_extension": ".py",
   "mimetype": "text/x-python",
   "name": "python",
   "nbconvert_exporter": "python",
   "pygments_lexer": "ipython3",
   "version": "3.11.7"
  }
 },
 "nbformat": 4,
 "nbformat_minor": 5
}
